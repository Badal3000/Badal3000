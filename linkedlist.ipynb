{
  "nbformat": 4,
  "nbformat_minor": 0,
  "metadata": {
    "colab": {
      "provenance": [],
      "gpuType": "T4",
      "authorship_tag": "ABX9TyPnAkC9I7ckZX+iQVFQtTpO",
      "include_colab_link": true
    },
    "kernelspec": {
      "name": "python3",
      "display_name": "Python 3"
    },
    "language_info": {
      "name": "python"
    },
    "accelerator": "GPU"
  },
  "cells": [
    {
      "cell_type": "markdown",
      "metadata": {
        "id": "view-in-github",
        "colab_type": "text"
      },
      "source": [
        "<a href=\"https://colab.research.google.com/github/Badal3000/Badal3000/blob/main/linkedlist.ipynb\" target=\"_parent\"><img src=\"https://colab.research.google.com/assets/colab-badge.svg\" alt=\"Open In Colab\"/></a>"
      ]
    },
    {
      "cell_type": "markdown",
      "source": [
        "creating a class for node"
      ],
      "metadata": {
        "id": "-l43zy9dajvH"
      }
    },
    {
      "cell_type": "code",
      "execution_count": 13,
      "metadata": {
        "id": "nXUIA-P_acv_"
      },
      "outputs": [],
      "source": [
        "import ctypes"
      ]
    },
    {
      "cell_type": "code",
      "source": [
        "class Node:\n",
        "  def __init__(self, value):\n",
        "    self.data = value\n",
        "    self.next = None"
      ],
      "metadata": {
        "id": "m0VP634YahyX"
      },
      "execution_count": 14,
      "outputs": []
    },
    {
      "cell_type": "code",
      "source": [
        "a = Node(1)"
      ],
      "metadata": {
        "id": "0a_vofHDah1i"
      },
      "execution_count": 15,
      "outputs": []
    },
    {
      "cell_type": "code",
      "source": [
        "print(a.data)\n",
        "print(a.next)"
      ],
      "metadata": {
        "colab": {
          "base_uri": "https://localhost:8080/"
        },
        "id": "axAP1IVcah4n",
        "outputId": "c95aca3b-8f7b-4d2f-c7b8-bc5b62c98a55"
      },
      "execution_count": 16,
      "outputs": [
        {
          "output_type": "stream",
          "name": "stdout",
          "text": [
            "1\n",
            "None\n"
          ]
        }
      ]
    },
    {
      "cell_type": "markdown",
      "source": [
        "creating a linked list class"
      ],
      "metadata": {
        "id": "hdfaWeljdEy-"
      }
    },
    {
      "cell_type": "code",
      "source": [
        "class Node:\n",
        "    def __init__(self, data):\n",
        "        self.data = data\n",
        "        self.next = None\n",
        "\n",
        "class LinkedList:\n",
        "    def __init__(self):\n",
        "        self.head = None\n",
        "        self.length = 0  # Maintain a length attribute\n",
        "\n",
        "    def insert_head(self, data):\n",
        "        new_node = Node(data)\n",
        "        new_node.next = self.head\n",
        "        self.head = new_node\n",
        "        self.length += 1  # Increment the length when inserting a node\n",
        "\n",
        "    def __len__(self):  # Define the __len__ method to enable len() function\n",
        "        return self.length\n",
        "\n",
        "    def __str__(self):\n",
        "      curr = self.head\n",
        "      result = ''\n",
        "      while curr != None:\n",
        "        result = result + str(curr.data) + '->'\n",
        "        curr = curr.next\n",
        "      return result[:-2]\n",
        "\n",
        "    def append(self, value):\n",
        "      new_node = Node(value)\n",
        "      if self.head == None:\n",
        "        self.head = new_node\n",
        "      curr = self.head\n",
        "      while curr.next != None:\n",
        "        curr = curr.next\n",
        "      curr.next = new_node\n",
        "      self.n = self.n + 1\n",
        "\n",
        "    def insert_after(self, after, value):\n",
        "      new_node = Node(value)\n",
        "      curr = self.head\n",
        "      while curr != None:\n",
        "        if curr.data == after:\n",
        "          break\n",
        "        curr = curr.next\n",
        "      if curr != None:\n",
        "        new_node.next = curr.next\n",
        "        curr.next = new_node\n",
        "      else:\n",
        "        return 'item not found'\n",
        "\n",
        "      def delete_head(self):\n",
        "        if self.head == None:\n",
        "          return 'empty list'\n",
        "        self.head = self.head.next\n",
        "        self.n = self.n - 1\n",
        "\n",
        "      def pop(self):\n",
        "        if self.head == None:\n",
        "          return 'Empty'\n",
        "        curr = self.head\n",
        "        if curr.next == None:\n",
        "          return self.delete_head\n",
        "        while curr.next.next != None:\n",
        "          curr = curr.next\n",
        "        curr.next = None\n",
        "        self.n = sellf.n-1\n",
        "\n",
        "      def remove(self, value):\n",
        "        if self.head == None:\n",
        "          return 'empty Linked list'\n",
        "        if self.head == value:\n",
        "          self.delete_head()\n",
        "        curr = self.head\n",
        "        while curr.next != None:\n",
        "          if curr.next == data:\n",
        "            break\n",
        "          curr = curr.next\n",
        "          if curr.next == None:\n",
        "            return 'value not found'\n",
        "          else:\n",
        "            current.next == current.next.next\n",
        "\n",
        "\n",
        "      #searchig\n",
        "      def search(self, item):\n",
        "        curr = self.delete_head\n",
        "        pos = 0\n",
        "        while curr != None:\n",
        "          if curr.data ==  item:\n",
        "            return pos\n",
        "          curr = curr.next\n",
        "          pos = pos + 1\n",
        "\n",
        "        return 'value not found'\n",
        "\n",
        "      def sum_odd(self):\n",
        "        temp = self.head\n",
        "        counter = 0\n",
        "        result = 0\n",
        "        while temp != None:\n",
        "          if counter %2 != 0:\n",
        "            result = temp.data + result\n",
        "\n",
        "          result += 1\n",
        "          temp = temp.next\n",
        "\n",
        "        print(result)\n",
        "\n",
        "\n",
        "\n",
        "\n",
        "\n",
        "\n",
        "\n",
        "\n",
        "\n"
      ],
      "metadata": {
        "id": "fKRaSRWjaiMG"
      },
      "execution_count": 12,
      "outputs": []
    }
  ]
}