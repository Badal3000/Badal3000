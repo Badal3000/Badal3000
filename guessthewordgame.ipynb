{
  "nbformat": 4,
  "nbformat_minor": 0,
  "metadata": {
    "colab": {
      "provenance": [],
      "authorship_tag": "ABX9TyNd2znK/imWAfcg19IKQ1kr",
      "include_colab_link": true
    },
    "kernelspec": {
      "name": "python3",
      "display_name": "Python 3"
    },
    "language_info": {
      "name": "python"
    }
  },
  "cells": [
    {
      "cell_type": "markdown",
      "metadata": {
        "id": "view-in-github",
        "colab_type": "text"
      },
      "source": [
        "<a href=\"https://colab.research.google.com/github/Badal3000/Badal3000/blob/main/guessthewordgame.ipynb\" target=\"_parent\"><img src=\"https://colab.research.google.com/assets/colab-badge.svg\" alt=\"Open In Colab\"/></a>"
      ]
    },
    {
      "cell_type": "code",
      "execution_count": null,
      "metadata": {
        "colab": {
          "base_uri": "https://localhost:8080/"
        },
        "id": "fuHnfeOyN680",
        "outputId": "bdd3d6c2-f07b-4f15-ca7f-77a6a696d717"
      },
      "outputs": [
        {
          "output_type": "stream",
          "name": "stdout",
          "text": [
            "potato\n",
            "['_', '_', '_', '_', '_', '_']\n"
          ]
        }
      ],
      "source": [
        "import random\n",
        "word_list = [\"apple\", \"beautiful\", \"potato\"]\n",
        "lives = 6\n",
        "chosen_word = random.choice(word_list)\n",
        "print(chosen_word)\n",
        "display = []\n",
        "for i in range(len(chosen_word)):\n",
        "    display += \"_\"\n",
        "print(display)\n",
        "game_over = False\n",
        "while not game_over:\n",
        "    guessed_letter = input(\"Guess the letter : \").lower()\n",
        "    for position  in range(len(chosen_word)):\n",
        "        letter = chosen_word[position]\n",
        "        if letter == guessed_letter:\n",
        "            display[position] = guessed_letter\n",
        "    print(display)\n",
        "    if guessed_letter not in chosen_word:\n",
        "        lives -= 1\n",
        "        if lives == 0:\n",
        "            game_over = True\n",
        "            print(\"You lost\")\n",
        "    if '_' not in display:\n",
        "        game_over = True\n",
        "        print(\"You won\")\n",
        "    print(lives)\n",
        "\n",
        "\n",
        "\n"
      ]
    }
  ]
}